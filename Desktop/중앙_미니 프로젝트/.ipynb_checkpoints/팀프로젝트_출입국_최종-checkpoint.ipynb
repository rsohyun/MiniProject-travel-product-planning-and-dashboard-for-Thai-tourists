{
 "cells": [
  {
   "cell_type": "markdown",
   "id": "aafce7d8-8760-4ead-b1c0-6b660df13b5a",
   "metadata": {
    "tags": []
   },
   "source": [
    "# 주제 선정"
   ]
  },
  {
   "cell_type": "markdown",
   "id": "44d064ac",
   "metadata": {},
   "source": [
    "목적: 출입국 데이터 중 tour컬럼에 집중하여 특정 국가의 방한 관광객을 위한 여행 상품을 기획할 때 도움을 줄 수 있는 대시보드를 만들고자 하였다. \n",
    "\n",
    "주제: 출입국 데이터 및 외부 데이터를 활용하여 우리나라 방한 관광객 출신 국가 중 6위 차지하는 태국 관광객을 위한 여행 장소 및 아이템 선정에 도움\n",
    "\n",
    "사용한 데이터(6): 출입국 데이터, 한국 여행 중 방문권역 - 1년 이하, 외래 관광객 실태 조사, 서울시 관광특구 데이터 정보, 서울시 자랑스러운 한국음식점 정보, 서울시 관광거리 정보"
   ]
  },
  {
   "cell_type": "markdown",
   "id": "2d5c1dbb",
   "metadata": {
    "tags": []
   },
   "source": [
    "# 출입국 데이터 병합"
   ]
  },
  {
   "cell_type": "code",
   "execution_count": null,
   "id": "bcd673c6-ecf0-4fa8-ad7b-4c1b03ef1721",
   "metadata": {
    "ExecuteTime": {
     "end_time": "2023-04-17T09:49:46.053803Z",
     "start_time": "2023-04-17T09:49:39.973704Z"
    },
    "tags": []
   },
   "outputs": [],
   "source": [
    "# 2010-01 ~ 2020-05 출입국 데이터 하나로 병합\n",
    "import pandas as pd\n",
    "import numpy as np\n",
    "import matplotlib.pyplot as plt\n",
    "import seaborn as sns\n",
    "import pyreadstat\n",
    "\n",
    "import warnings \n",
    "warnings.filterwarnings(action='ignore') #경고 문구 무시\n",
    "\n",
    "import os\n",
    "os.chdir(\"C:\\\\Users\\\\USER\\\\project1\") #새 디렉토리 생성한 후 워킹디렉토리 변경\n",
    "os.getcwd()\n",
    "\n",
    "def foreign_data(yy, mm):\n",
    "# 1. 불러올 엑셀 파일 경로 지정\n",
    "    file_path = '출입국data/foreign_{}{}.xlsx'.format(yy, mm)\n",
    "# 2. 엑셀 파일 불러오기\n",
    "    im = pd.read_excel(file_path, header = 1, skipfooter = 4) #skipfooter 아래에서 4개 행 없애기 \n",
    "# 3. '기준년월' 컬럼 추가\n",
    "    im['기준년월'] = '{}-{}'.format(yy, mm)\n",
    "\n",
    "    return im\n",
    "\n",
    "# 6자리로 정렬하여 기준년월 출력하기 \n",
    "for yy in range(2014, 2020):\n",
    "    for mm in range(1, 13):\n",
    "        mm_str = str(mm).zfill(2)   \n",
    "# zfill을 적용하여 한 자리수 달도 0을 붙여 두 자리수로 변환\n",
    "        yymm = '{}{}'.format(yy, mm)\n",
    "    \n",
    "im = pd.DataFrame()\n",
    "\n",
    "for yy in range(2014, 2020):\n",
    "    for mm in range(1, 13):\n",
    "        tmp = foreign_data(str(yy), str(mm).zfill(2))\n",
    "        im = im.append(tmp, ignore_index = True)\n",
    "#im['국적'].unique() -> 국적에 대륙전체가 합계가 포함된 행 삭제 필요성 발견"
   ]
  },
  {
   "cell_type": "code",
   "execution_count": null,
   "id": "8b147bb1-43f5-4530-95a3-b0d637e04918",
   "metadata": {
    "ExecuteTime": {
     "end_time": "2023-04-17T10:06:10.556992Z",
     "start_time": "2023-04-17T10:06:10.533054Z"
    },
    "tags": []
   },
   "outputs": [],
   "source": [
    "#'주' 인것 제외 \n",
    "temp=(im[\"국적\"].isin(['아시아주','구주','미주','대양주','아프리카주','기타대륙','교포소계'])==False)\n",
    "im = im.loc[temp]"
   ]
  },
  {
   "cell_type": "code",
   "execution_count": null,
   "id": "3752d9d0",
   "metadata": {
    "ExecuteTime": {
     "end_time": "2023-04-17T10:06:20.061498Z",
     "start_time": "2023-04-17T10:06:20.028083Z"
    }
   },
   "outputs": [
    {
     "data": {
      "text/plain": [
       "국적\n",
       "중국    28145212\n",
       "일본    14395556\n",
       "대만     5191604\n",
       "미국     4019338\n",
       "홍콩     3690880\n",
       "태국     2493817\n",
       "Name: 관광, dtype: int64"
      ]
     },
     "execution_count": 22,
     "metadata": {},
     "output_type": "execute_result"
    }
   ],
   "source": [
    "# 관광객 출신 국가 중 상위 6개 집계\n",
    "im.groupby('국적')['관광'].sum().sort_values(ascending = False).head(6)"
   ]
  },
  {
   "cell_type": "markdown",
   "id": "3b8007af-987b-49bf-b09b-4e6a4c95d16a",
   "metadata": {
    "tags": []
   },
   "source": [
    "너무나 당연한 1,2위 중국과 일본을 제외하고 의외의 고순위 나라를 선택\n",
    "\n",
    "중국 인구의 1/20 이지만 출입국 수 자체는 1/10배, 전체 6위에 해당"
   ]
  },
  {
   "cell_type": "markdown",
   "id": "48bd665e-f295-43e5-a9c6-abebbe12cb16",
   "metadata": {
    "tags": []
   },
   "source": [
    "# 출입국 데이터 전처리"
   ]
  },
  {
   "cell_type": "code",
   "execution_count": null,
   "id": "ff88c0dc-5534-4fdc-b08c-95d2f10ef36c",
   "metadata": {
    "ExecuteTime": {
     "end_time": "2023-04-17T09:45:34.595227Z",
     "start_time": "2023-04-17T09:45:34.575280Z"
    },
    "tags": []
   },
   "outputs": [],
   "source": [
    "im.rename({'국적':'ctr', '관광':'tour','상용':'cb','공용':'ob', '유학/연수':'study','기타':'ect','계':'total','전년동기':'yoy','성장률(%)':'growth','구성비(%)':'ratio','기준년월':'date'},axis=1, inplace=True)\n",
    "#쉬운 타이핑과 가독성을 위한 열 이름 변경"
   ]
  },
  {
   "cell_type": "code",
   "execution_count": null,
   "id": "d7e12dbe-c199-4d74-a289-4a3efc5a2a7b",
   "metadata": {
    "ExecuteTime": {
     "end_time": "2023-04-17T09:45:41.889198Z",
     "start_time": "2023-04-17T09:45:41.802914Z"
    },
    "tags": []
   },
   "outputs": [
    {
     "data": {
      "text/html": [
       "<div>\n",
       "<style scoped>\n",
       "    .dataframe tbody tr th:only-of-type {\n",
       "        vertical-align: middle;\n",
       "    }\n",
       "\n",
       "    .dataframe tbody tr th {\n",
       "        vertical-align: top;\n",
       "    }\n",
       "\n",
       "    .dataframe thead th {\n",
       "        text-align: right;\n",
       "    }\n",
       "</style>\n",
       "<table border=\"1\" class=\"dataframe\">\n",
       "  <thead>\n",
       "    <tr style=\"text-align: right;\">\n",
       "      <th></th>\n",
       "      <th>ctr</th>\n",
       "      <th>tour</th>\n",
       "      <th>cb</th>\n",
       "      <th>ob</th>\n",
       "      <th>study</th>\n",
       "      <th>ect</th>\n",
       "      <th>total</th>\n",
       "      <th>yoy</th>\n",
       "      <th>growth</th>\n",
       "      <th>ratio</th>\n",
       "      <th>date</th>\n",
       "      <th>season</th>\n",
       "    </tr>\n",
       "  </thead>\n",
       "  <tbody>\n",
       "    <tr>\n",
       "      <th>1</th>\n",
       "      <td>일본</td>\n",
       "      <td>164038</td>\n",
       "      <td>2564</td>\n",
       "      <td>81</td>\n",
       "      <td>720</td>\n",
       "      <td>4674</td>\n",
       "      <td>172077</td>\n",
       "      <td>206474</td>\n",
       "      <td>-16.7</td>\n",
       "      <td>20.4</td>\n",
       "      <td>2014-01</td>\n",
       "      <td>winter</td>\n",
       "    </tr>\n",
       "  </tbody>\n",
       "</table>\n",
       "</div>"
      ],
      "text/plain": [
       "  ctr    tour    cb  ob  study   ect   total     yoy  growth  ratio     date  \\\n",
       "1  일본  164038  2564  81    720  4674  172077  206474   -16.7   20.4  2014-01   \n",
       "\n",
       "   season  \n",
       "1  winter  "
      ]
     },
     "execution_count": 25,
     "metadata": {},
     "output_type": "execute_result"
    }
   ],
   "source": [
    "# date 열을 이용한 season 대응열 추가\n",
    "im['season'] = im['date'].str[-2:]\n",
    "sea = {\"01\":\"winter\", \"02\":\"winter\", \"03\":\"spring\",\"04\":\"spring\", \"05\":\"spring\", \"06\":\"summer\", \"07\":\"summer\",\n",
    "      \"08\":\"summer\", \"09\":\"fall\", \"10\":\"fall\", \"11\":\"fall\", \"12\":\"winter\"}\n",
    "im['season'] = im['season'].map(sea)\n",
    "im[:1]"
   ]
  },
  {
   "cell_type": "code",
   "execution_count": null,
   "id": "4c29e651-1586-4b23-97c7-f0fcde1e86c5",
   "metadata": {
    "ExecuteTime": {
     "end_time": "2023-04-17T09:45:49.135670Z",
     "start_time": "2023-04-17T09:45:49.052906Z"
    },
    "collapsed": true,
    "jupyter": {
     "outputs_hidden": true
    },
    "tags": []
   },
   "outputs": [
    {
     "ename": "IndexError",
     "evalue": "positional indexers are out-of-bounds",
     "output_type": "error",
     "traceback": [
      "\u001b[1;31m---------------------------------------------------------------------------\u001b[0m",
      "\u001b[1;31mIndexError\u001b[0m                                Traceback (most recent call last)",
      "Cell \u001b[1;32mIn[27], line 5\u001b[0m\n\u001b[0;32m      1\u001b[0m \u001b[38;5;66;03m#외부데이터 기준 겹치는 국가만 뽑은 데이터\u001b[39;00m\n\u001b[0;32m      2\u001b[0m sel \u001b[38;5;241m=\u001b[39m im[im[\u001b[38;5;124m'\u001b[39m\u001b[38;5;124mctr\u001b[39m\u001b[38;5;124m'\u001b[39m]\u001b[38;5;241m.\u001b[39misin([\u001b[38;5;124m'\u001b[39m\u001b[38;5;124m일본\u001b[39m\u001b[38;5;124m'\u001b[39m, \u001b[38;5;124m'\u001b[39m\u001b[38;5;124m중국\u001b[39m\u001b[38;5;124m'\u001b[39m, \u001b[38;5;124m'\u001b[39m\u001b[38;5;124m홍콩\u001b[39m\u001b[38;5;124m'\u001b[39m, \u001b[38;5;124m'\u001b[39m\u001b[38;5;124m싱가포르\u001b[39m\u001b[38;5;124m'\u001b[39m, \u001b[38;5;124m'\u001b[39m\u001b[38;5;124m대만\u001b[39m\u001b[38;5;124m'\u001b[39m, \u001b[38;5;124m'\u001b[39m\u001b[38;5;124m태국\u001b[39m\u001b[38;5;124m'\u001b[39m, \u001b[38;5;124m'\u001b[39m\u001b[38;5;124m말레이시아\u001b[39m\u001b[38;5;124m'\u001b[39m, \u001b[38;5;124m'\u001b[39m\u001b[38;5;124m호주\u001b[39m\u001b[38;5;124m'\u001b[39m,\u001b[38;5;124m'\u001b[39m\u001b[38;5;124m미국\u001b[39m\u001b[38;5;124m'\u001b[39m,\n\u001b[0;32m      3\u001b[0m  \u001b[38;5;124m'\u001b[39m\u001b[38;5;124m캐나다\u001b[39m\u001b[38;5;124m'\u001b[39m, \u001b[38;5;124m'\u001b[39m\u001b[38;5;124m영국\u001b[39m\u001b[38;5;124m'\u001b[39m, \u001b[38;5;124m'\u001b[39m\u001b[38;5;124m독일\u001b[39m\u001b[38;5;124m'\u001b[39m, \u001b[38;5;124m'\u001b[39m\u001b[38;5;124m프랑스\u001b[39m\u001b[38;5;124m'\u001b[39m, \u001b[38;5;124m'\u001b[39m\u001b[38;5;124m러시아\u001b[39m\u001b[38;5;124m'\u001b[39m, \u001b[38;5;124m'\u001b[39m\u001b[38;5;124m인도\u001b[39m\u001b[38;5;124m'\u001b[39m, \u001b[38;5;124m'\u001b[39m\u001b[38;5;124m필리핀\u001b[39m\u001b[38;5;124m'\u001b[39m, \u001b[38;5;124m'\u001b[39m\u001b[38;5;124m인도네시아\u001b[39m\u001b[38;5;124m'\u001b[39m, \u001b[38;5;124m'\u001b[39m\u001b[38;5;124m베트남\u001b[39m\u001b[38;5;124m'\u001b[39m, \u001b[38;5;124m'\u001b[39m\u001b[38;5;124m몽골\u001b[39m\u001b[38;5;124m'\u001b[39m])] \n\u001b[1;32m----> 5\u001b[0m sel \u001b[38;5;241m=\u001b[39m \u001b[43msel\u001b[49m\u001b[38;5;241;43m.\u001b[39;49m\u001b[43miloc\u001b[49m\u001b[43m[\u001b[49m\u001b[43m:\u001b[49m\u001b[43m,\u001b[49m\u001b[43m \u001b[49m\u001b[43m[\u001b[49m\u001b[38;5;241;43m0\u001b[39;49m\u001b[43m,\u001b[49m\u001b[38;5;241;43m1\u001b[39;49m\u001b[43m,\u001b[49m\u001b[38;5;241;43m10\u001b[39;49m\u001b[43m,\u001b[49m\u001b[38;5;241;43m11\u001b[39;49m\u001b[43m,\u001b[49m\u001b[38;5;241;43m12\u001b[39;49m\u001b[43m]\u001b[49m\u001b[43m]\u001b[49m\n\u001b[0;32m      6\u001b[0m sel\n",
      "File \u001b[1;32mc:\\users\\user\\appdata\\local\\programs\\python\\python38\\lib\\site-packages\\pandas\\core\\indexing.py:889\u001b[0m, in \u001b[0;36m_LocationIndexer.__getitem__\u001b[1;34m(self, key)\u001b[0m\n\u001b[0;32m    886\u001b[0m         \u001b[38;5;28;01mwith\u001b[39;00m suppress(\u001b[38;5;167;01mKeyError\u001b[39;00m, \u001b[38;5;167;01mIndexError\u001b[39;00m, \u001b[38;5;167;01mAttributeError\u001b[39;00m):\n\u001b[0;32m    887\u001b[0m             \u001b[38;5;66;03m# AttributeError for IntervalTree get_value\u001b[39;00m\n\u001b[0;32m    888\u001b[0m             \u001b[38;5;28;01mreturn\u001b[39;00m \u001b[38;5;28mself\u001b[39m\u001b[38;5;241m.\u001b[39mobj\u001b[38;5;241m.\u001b[39m_get_value(\u001b[38;5;241m*\u001b[39mkey, takeable\u001b[38;5;241m=\u001b[39m\u001b[38;5;28mself\u001b[39m\u001b[38;5;241m.\u001b[39m_takeable)\n\u001b[1;32m--> 889\u001b[0m     \u001b[38;5;28;01mreturn\u001b[39;00m \u001b[38;5;28;43mself\u001b[39;49m\u001b[38;5;241;43m.\u001b[39;49m\u001b[43m_getitem_tuple\u001b[49m\u001b[43m(\u001b[49m\u001b[43mkey\u001b[49m\u001b[43m)\u001b[49m\n\u001b[0;32m    890\u001b[0m \u001b[38;5;28;01melse\u001b[39;00m:\n\u001b[0;32m    891\u001b[0m     \u001b[38;5;66;03m# we by definition only have the 0th axis\u001b[39;00m\n\u001b[0;32m    892\u001b[0m     axis \u001b[38;5;241m=\u001b[39m \u001b[38;5;28mself\u001b[39m\u001b[38;5;241m.\u001b[39maxis \u001b[38;5;129;01mor\u001b[39;00m \u001b[38;5;241m0\u001b[39m\n",
      "File \u001b[1;32mc:\\users\\user\\appdata\\local\\programs\\python\\python38\\lib\\site-packages\\pandas\\core\\indexing.py:1450\u001b[0m, in \u001b[0;36m_iLocIndexer._getitem_tuple\u001b[1;34m(self, tup)\u001b[0m\n\u001b[0;32m   1448\u001b[0m \u001b[38;5;28;01mdef\u001b[39;00m \u001b[38;5;21m_getitem_tuple\u001b[39m(\u001b[38;5;28mself\u001b[39m, tup: Tuple):\n\u001b[1;32m-> 1450\u001b[0m     \u001b[38;5;28;43mself\u001b[39;49m\u001b[38;5;241;43m.\u001b[39;49m\u001b[43m_has_valid_tuple\u001b[49m\u001b[43m(\u001b[49m\u001b[43mtup\u001b[49m\u001b[43m)\u001b[49m\n\u001b[0;32m   1451\u001b[0m     \u001b[38;5;28;01mwith\u001b[39;00m suppress(IndexingError):\n\u001b[0;32m   1452\u001b[0m         \u001b[38;5;28;01mreturn\u001b[39;00m \u001b[38;5;28mself\u001b[39m\u001b[38;5;241m.\u001b[39m_getitem_lowerdim(tup)\n",
      "File \u001b[1;32mc:\\users\\user\\appdata\\local\\programs\\python\\python38\\lib\\site-packages\\pandas\\core\\indexing.py:723\u001b[0m, in \u001b[0;36m_LocationIndexer._has_valid_tuple\u001b[1;34m(self, key)\u001b[0m\n\u001b[0;32m    721\u001b[0m \u001b[38;5;28;01mfor\u001b[39;00m i, k \u001b[38;5;129;01min\u001b[39;00m \u001b[38;5;28menumerate\u001b[39m(key):\n\u001b[0;32m    722\u001b[0m     \u001b[38;5;28;01mtry\u001b[39;00m:\n\u001b[1;32m--> 723\u001b[0m         \u001b[38;5;28;43mself\u001b[39;49m\u001b[38;5;241;43m.\u001b[39;49m\u001b[43m_validate_key\u001b[49m\u001b[43m(\u001b[49m\u001b[43mk\u001b[49m\u001b[43m,\u001b[49m\u001b[43m \u001b[49m\u001b[43mi\u001b[49m\u001b[43m)\u001b[49m\n\u001b[0;32m    724\u001b[0m     \u001b[38;5;28;01mexcept\u001b[39;00m \u001b[38;5;167;01mValueError\u001b[39;00m \u001b[38;5;28;01mas\u001b[39;00m err:\n\u001b[0;32m    725\u001b[0m         \u001b[38;5;28;01mraise\u001b[39;00m \u001b[38;5;167;01mValueError\u001b[39;00m(\n\u001b[0;32m    726\u001b[0m             \u001b[38;5;124m\"\u001b[39m\u001b[38;5;124mLocation based indexing can only have \u001b[39m\u001b[38;5;124m\"\u001b[39m\n\u001b[0;32m    727\u001b[0m             \u001b[38;5;124mf\u001b[39m\u001b[38;5;124m\"\u001b[39m\u001b[38;5;124m[\u001b[39m\u001b[38;5;132;01m{\u001b[39;00m\u001b[38;5;28mself\u001b[39m\u001b[38;5;241m.\u001b[39m_valid_types\u001b[38;5;132;01m}\u001b[39;00m\u001b[38;5;124m] types\u001b[39m\u001b[38;5;124m\"\u001b[39m\n\u001b[0;32m    728\u001b[0m         ) \u001b[38;5;28;01mfrom\u001b[39;00m \u001b[38;5;21;01merr\u001b[39;00m\n",
      "File \u001b[1;32mc:\\users\\user\\appdata\\local\\programs\\python\\python38\\lib\\site-packages\\pandas\\core\\indexing.py:1373\u001b[0m, in \u001b[0;36m_iLocIndexer._validate_key\u001b[1;34m(self, key, axis)\u001b[0m\n\u001b[0;32m   1371\u001b[0m     \u001b[38;5;66;03m# check that the key does not exceed the maximum size of the index\u001b[39;00m\n\u001b[0;32m   1372\u001b[0m     \u001b[38;5;28;01mif\u001b[39;00m \u001b[38;5;28mlen\u001b[39m(arr) \u001b[38;5;129;01mand\u001b[39;00m (arr\u001b[38;5;241m.\u001b[39mmax() \u001b[38;5;241m>\u001b[39m\u001b[38;5;241m=\u001b[39m len_axis \u001b[38;5;129;01mor\u001b[39;00m arr\u001b[38;5;241m.\u001b[39mmin() \u001b[38;5;241m<\u001b[39m \u001b[38;5;241m-\u001b[39mlen_axis):\n\u001b[1;32m-> 1373\u001b[0m         \u001b[38;5;28;01mraise\u001b[39;00m \u001b[38;5;167;01mIndexError\u001b[39;00m(\u001b[38;5;124m\"\u001b[39m\u001b[38;5;124mpositional indexers are out-of-bounds\u001b[39m\u001b[38;5;124m\"\u001b[39m)\n\u001b[0;32m   1374\u001b[0m \u001b[38;5;28;01melse\u001b[39;00m:\n\u001b[0;32m   1375\u001b[0m     \u001b[38;5;28;01mraise\u001b[39;00m \u001b[38;5;167;01mValueError\u001b[39;00m(\u001b[38;5;124mf\u001b[39m\u001b[38;5;124m\"\u001b[39m\u001b[38;5;124mCan only index by location with a [\u001b[39m\u001b[38;5;132;01m{\u001b[39;00m\u001b[38;5;28mself\u001b[39m\u001b[38;5;241m.\u001b[39m_valid_types\u001b[38;5;132;01m}\u001b[39;00m\u001b[38;5;124m]\u001b[39m\u001b[38;5;124m\"\u001b[39m)\n",
      "\u001b[1;31mIndexError\u001b[0m: positional indexers are out-of-bounds"
     ]
    }
   ],
   "source": [
    "#외부데이터 1,2와 겹치는 국가만 뽑은 데이터\n",
    "sel = im[im['ctr'].isin(['일본', '중국', '홍콩', '싱가포르', '대만', '태국', '말레이시아', '호주','미국',\n",
    " '캐나다', '영국', '독일', '프랑스', '러시아', '인도', '필리핀', '인도네시아', '베트남', '몽골'])] \n",
    "\n",
    "sel = sel.iloc[:, [0,1,10,11,12]]\n",
    "sel"
   ]
  },
  {
   "cell_type": "code",
   "execution_count": null,
   "id": "267d7364",
   "metadata": {
    "ExecuteTime": {
     "end_time": "2023-04-17T08:18:36.079630Z",
     "start_time": "2023-04-17T08:18:36.045693Z"
    }
   },
   "outputs": [],
   "source": [
    "#태블로 시각화를 위한 파일 저장\n",
    "sel.to_csv('sel.csv', encoding = 'cp949')"
   ]
  },
  {
   "cell_type": "markdown",
   "id": "34f6af8c-3853-49b2-ad7f-32a6e0aa62d1",
   "metadata": {
    "tags": []
   },
   "source": [
    "# 태국 관광객의 주요 방문 권역"
   ]
  },
  {
   "cell_type": "code",
   "execution_count": 47,
   "id": "51ac480a",
   "metadata": {
    "ExecuteTime": {
     "end_time": "2023-04-17T09:58:39.171242Z",
     "start_time": "2023-04-17T09:58:39.064528Z"
    },
    "tags": []
   },
   "outputs": [
    {
     "data": {
      "text/html": [
       "<div>\n",
       "<style scoped>\n",
       "    .dataframe tbody tr th:only-of-type {\n",
       "        vertical-align: middle;\n",
       "    }\n",
       "\n",
       "    .dataframe tbody tr th {\n",
       "        vertical-align: top;\n",
       "    }\n",
       "\n",
       "    .dataframe thead th {\n",
       "        text-align: right;\n",
       "    }\n",
       "</style>\n",
       "<table border=\"1\" class=\"dataframe\">\n",
       "  <thead>\n",
       "    <tr style=\"text-align: right;\">\n",
       "      <th></th>\n",
       "      <th>통계분류(1)</th>\n",
       "      <th>통계분류(2)</th>\n",
       "      <th>시점</th>\n",
       "      <th>사례수</th>\n",
       "      <th>서울</th>\n",
       "      <th>경기도</th>\n",
       "      <th>인천</th>\n",
       "      <th>강원도</th>\n",
       "      <th>충청도</th>\n",
       "      <th>경상도</th>\n",
       "      <th>전라도</th>\n",
       "      <th>제주</th>\n",
       "      <th>기타</th>\n",
       "    </tr>\n",
       "  </thead>\n",
       "  <tbody>\n",
       "    <tr>\n",
       "      <th>0</th>\n",
       "      <td>전체</td>\n",
       "      <td>소계</td>\n",
       "      <td>2014</td>\n",
       "      <td>12024</td>\n",
       "      <td>80.4</td>\n",
       "      <td>13.0</td>\n",
       "      <td>5.0</td>\n",
       "      <td>7.1</td>\n",
       "      <td>2.4</td>\n",
       "      <td>10.8</td>\n",
       "      <td>2.8</td>\n",
       "      <td>18.0</td>\n",
       "      <td>0.2</td>\n",
       "    </tr>\n",
       "    <tr>\n",
       "      <th>1</th>\n",
       "      <td>전체</td>\n",
       "      <td>소계</td>\n",
       "      <td>2015</td>\n",
       "      <td>12882</td>\n",
       "      <td>78.7</td>\n",
       "      <td>13.3</td>\n",
       "      <td>6.8</td>\n",
       "      <td>6.4</td>\n",
       "      <td>3.0</td>\n",
       "      <td>13.0</td>\n",
       "      <td>3.4</td>\n",
       "      <td>18.3</td>\n",
       "      <td>0.1</td>\n",
       "    </tr>\n",
       "  </tbody>\n",
       "</table>\n",
       "</div>"
      ],
      "text/plain": [
       "  통계분류(1) 통계분류(2)    시점    사례수    서울   경기도   인천  강원도  충청도   경상도  전라도    제주  \\\n",
       "0      전체      소계  2014  12024  80.4  13.0  5.0  7.1  2.4  10.8  2.8  18.0   \n",
       "1      전체      소계  2015  12882  78.7  13.3  6.8  6.4  3.0  13.0  3.4  18.3   \n",
       "\n",
       "    기타  \n",
       "0  0.2  \n",
       "1  0.1  "
      ]
     },
     "execution_count": 47,
     "metadata": {},
     "output_type": "execute_result"
    }
   ],
   "source": [
    "#외부데이터 1 -> 서울 타겟팅\n",
    "ThaiSeoul = pd.read_csv('ThaiSeoul.csv', encoding = 'cp949')\n",
    "ThaiSeoul[:2]"
   ]
  },
  {
   "cell_type": "code",
   "execution_count": 48,
   "id": "ccdf58d5",
   "metadata": {
    "ExecuteTime": {
     "end_time": "2023-04-17T09:58:51.862865Z",
     "start_time": "2023-04-17T09:58:51.759144Z"
    },
    "tags": []
   },
   "outputs": [
    {
     "data": {
      "text/html": [
       "<div>\n",
       "<style scoped>\n",
       "    .dataframe tbody tr th:only-of-type {\n",
       "        vertical-align: middle;\n",
       "    }\n",
       "\n",
       "    .dataframe tbody tr th {\n",
       "        vertical-align: top;\n",
       "    }\n",
       "\n",
       "    .dataframe thead th {\n",
       "        text-align: right;\n",
       "    }\n",
       "</style>\n",
       "<table border=\"1\" class=\"dataframe\">\n",
       "  <thead>\n",
       "    <tr style=\"text-align: right;\">\n",
       "      <th></th>\n",
       "      <th>서울</th>\n",
       "      <th>경기도</th>\n",
       "      <th>인천</th>\n",
       "      <th>강원도</th>\n",
       "      <th>충청도</th>\n",
       "      <th>경상도</th>\n",
       "      <th>전라도</th>\n",
       "      <th>제주</th>\n",
       "      <th>기타</th>\n",
       "    </tr>\n",
       "    <tr>\n",
       "      <th>시점</th>\n",
       "      <th></th>\n",
       "      <th></th>\n",
       "      <th></th>\n",
       "      <th></th>\n",
       "      <th></th>\n",
       "      <th></th>\n",
       "      <th></th>\n",
       "      <th></th>\n",
       "      <th></th>\n",
       "    </tr>\n",
       "  </thead>\n",
       "  <tbody>\n",
       "    <tr>\n",
       "      <th>2014</th>\n",
       "      <td>98.7</td>\n",
       "      <td>39.4</td>\n",
       "      <td>10.2</td>\n",
       "      <td>48.4</td>\n",
       "      <td>1.4</td>\n",
       "      <td>3.2</td>\n",
       "      <td>0.5</td>\n",
       "      <td>1.0</td>\n",
       "      <td>0.3</td>\n",
       "    </tr>\n",
       "    <tr>\n",
       "      <th>2015</th>\n",
       "      <td>88.1</td>\n",
       "      <td>28.6</td>\n",
       "      <td>11.6</td>\n",
       "      <td>24.8</td>\n",
       "      <td>2.5</td>\n",
       "      <td>9.0</td>\n",
       "      <td>2.4</td>\n",
       "      <td>9.1</td>\n",
       "      <td>0.2</td>\n",
       "    </tr>\n",
       "    <tr>\n",
       "      <th>2016</th>\n",
       "      <td>87.5</td>\n",
       "      <td>27.8</td>\n",
       "      <td>10.4</td>\n",
       "      <td>28.0</td>\n",
       "      <td>3.0</td>\n",
       "      <td>9.5</td>\n",
       "      <td>1.3</td>\n",
       "      <td>8.8</td>\n",
       "      <td>0.5</td>\n",
       "    </tr>\n",
       "    <tr>\n",
       "      <th>2017</th>\n",
       "      <td>90.4</td>\n",
       "      <td>24.0</td>\n",
       "      <td>13.5</td>\n",
       "      <td>16.4</td>\n",
       "      <td>1.2</td>\n",
       "      <td>17.2</td>\n",
       "      <td>1.6</td>\n",
       "      <td>2.2</td>\n",
       "      <td>0</td>\n",
       "    </tr>\n",
       "    <tr>\n",
       "      <th>2018</th>\n",
       "      <td>84.5</td>\n",
       "      <td>21.6</td>\n",
       "      <td>12.6</td>\n",
       "      <td>19.0</td>\n",
       "      <td>4.4</td>\n",
       "      <td>18.8</td>\n",
       "      <td>1.8</td>\n",
       "      <td>7.7</td>\n",
       "      <td>-</td>\n",
       "    </tr>\n",
       "    <tr>\n",
       "      <th>2019</th>\n",
       "      <td>75.5</td>\n",
       "      <td>42.0</td>\n",
       "      <td>15.7</td>\n",
       "      <td>21.2</td>\n",
       "      <td>2.2</td>\n",
       "      <td>15.2</td>\n",
       "      <td>1.0</td>\n",
       "      <td>10.8</td>\n",
       "      <td>-</td>\n",
       "    </tr>\n",
       "  </tbody>\n",
       "</table>\n",
       "</div>"
      ],
      "text/plain": [
       "        서울   경기도    인천   강원도  충청도   경상도  전라도    제주   기타\n",
       "시점                                                     \n",
       "2014  98.7  39.4  10.2  48.4  1.4   3.2  0.5   1.0  0.3\n",
       "2015  88.1  28.6  11.6  24.8  2.5   9.0  2.4   9.1  0.2\n",
       "2016  87.5  27.8  10.4  28.0  3.0   9.5  1.3   8.8  0.5\n",
       "2017  90.4  24.0  13.5  16.4  1.2  17.2  1.6   2.2    0\n",
       "2018  84.5  21.6  12.6  19.0  4.4  18.8  1.8   7.7    -\n",
       "2019  75.5  42.0  15.7  21.2  2.2  15.2  1.0  10.8    -"
      ]
     },
     "execution_count": 48,
     "metadata": {},
     "output_type": "execute_result"
    }
   ],
   "source": [
    "ThaiSeoul = ThaiSeoul.iloc[108:114, [2,4,5,6,7,8,9,10,11,12]]\n",
    "ThaiSeoul = ThaiSeoul.set_index('시점')\n",
    "ThaiSeoul"
   ]
  },
  {
   "cell_type": "code",
   "execution_count": 49,
   "id": "f3abf69c",
   "metadata": {
    "ExecuteTime": {
     "end_time": "2023-04-17T07:00:03.974730Z",
     "start_time": "2023-04-17T07:00:03.517442Z"
    },
    "tags": []
   },
   "outputs": [
    {
     "data": {
      "image/png": "[encoded data removed]",
      "text/plain": [
       "<Figure size 640x480 with 1 Axes>"
      ]
     },
     "metadata": {},
     "output_type": "display_data"
    }
   ],
   "source": [
    "#권역 중 가장 높은 비율인 서울을 주 관광지로 채택\n",
    "ThaiSeoul.plot() \n",
    "plt.rc('font', family='Malgun Gothic')"
   ]
  },
  {
   "cell_type": "markdown",
   "id": "40f8c7ff-b826-4341-b2ce-cd25fc8d932b",
   "metadata": {},
   "source": [
    "# 태국인 중 특정 연령 및 성별 타겟팅"
   ]
  },
  {
   "cell_type": "code",
   "execution_count": null,
   "id": "f288816b",
   "metadata": {
    "ExecuteTime": {
     "end_time": "2023-04-17T01:28:53.377563Z",
     "start_time": "2023-04-17T01:28:52.635581Z"
    }
   },
   "outputs": [
    {
     "data": {
      "text/plain": [
       "(            ID  chasu  q1a  wq1a   q1b    q1b1  q1b2  q2a  q2b  q2c  ...  \\\n",
       " 0          1.0    1.0  1.0   1.0   NaN     NaN   NaN  1.0  NaN  NaN  ...   \n",
       " 1          2.0    1.0  2.0   2.0   8.0  2012.0  10.0  1.0  NaN  NaN  ...   \n",
       " 2          3.0    1.0  1.0   1.0   NaN     NaN   NaN  1.0  NaN  NaN  ...   \n",
       " 3          4.0    1.0  1.0   1.0   NaN     NaN   NaN  1.0  NaN  NaN  ...   \n",
       " 4          5.0    1.0  2.0   2.0   2.0  2011.0   4.0  1.0  NaN  NaN  ...   \n",
       " ...        ...    ...  ...   ...   ...     ...   ...  ...  ...  ...  ...   \n",
       " 12019  12020.0   12.0  1.0   1.0   NaN     NaN   NaN  NaN  NaN  3.0  ...   \n",
       " 12020  12021.0   12.0  4.0  10.0  16.0  2014.0  10.0  1.0  NaN  NaN  ...   \n",
       " 12021  12022.0   12.0  1.0   1.0   NaN     NaN   NaN  1.0  NaN  NaN  ...   \n",
       " 12022  12023.0   12.0  2.0   2.0  14.0  2014.0   5.0  1.0  NaN  NaN  ...   \n",
       " 12023  12024.0   12.0  1.0   1.0   NaN     NaN   NaN  1.0  NaN  NaN  ...   \n",
       " \n",
       "          mday_av1  mday_av2  mday_av3    city  nat  sex  edu   job  age  \\\n",
       " 0      186.000000       NaN       NaN  1006.0  2.0  2.0  2.0   7.0  1.0   \n",
       " 1             NaN     198.4       NaN  1424.0  2.0  2.0  2.0   9.0  1.0   \n",
       " 2             NaN     264.6       NaN   971.0  2.0  1.0  2.0   4.0  2.0   \n",
       " 3             NaN     198.4       NaN  1424.0  2.0  1.0  1.0   6.0  2.0   \n",
       " 4             NaN     248.0       NaN   765.0  2.0  2.0  1.0   3.0  2.0   \n",
       " ...           ...       ...       ...     ...  ...  ...  ...   ...  ...   \n",
       " 12019   22.653333       NaN       NaN   587.0  5.0  2.0  2.0   8.0  0.0   \n",
       " 12020  442.750000       NaN       NaN  1992.0  5.0  2.0  2.0   5.0  0.0   \n",
       " 12021  682.000000       NaN       NaN   765.0  2.0  2.0  2.0   8.0  1.0   \n",
       " 12022  418.750000       NaN       NaN  2366.0  5.0  2.0  3.0   5.0  1.0   \n",
       " 12023  629.250000       NaN       NaN    53.0  2.0  1.0  3.0  99.0  1.0   \n",
       " \n",
       "              wt  \n",
       " 0      1.353636  \n",
       " 1      1.353636  \n",
       " 2      1.353636  \n",
       " 3      1.353636  \n",
       " 4      1.353636  \n",
       " ...         ...  \n",
       " 12019  0.629325  \n",
       " 12020  0.629325  \n",
       " 12021  2.047463  \n",
       " 12022  0.629325  \n",
       " 12023  2.047463  \n",
       " \n",
       " [12024 rows x 209 columns],\n",
       " <pyreadstat._readstat_parser.metadata_container at 0x2aee99c8520>)"
      ]
     },
     "execution_count": 29,
     "metadata": {},
     "output_type": "execute_result"
    }
   ],
   "source": [
    "# 외부데이터 2 -> 21-40세 태국인 여성\n",
    "real2014 = pyreadstat.read_sav(\"2014년 외래관광객 실태조사 원자료.sav\")\n",
    "real2014"
   ]
  },
  {
   "cell_type": "code",
   "execution_count": null,
   "id": "96e4c13c",
   "metadata": {
    "ExecuteTime": {
     "end_time": "2023-04-17T01:29:14.374227Z",
     "start_time": "2023-04-17T01:29:14.363256Z"
    }
   },
   "outputs": [
    {
     "data": {
      "text/plain": [
       "tuple"
      ]
     },
     "execution_count": 30,
     "metadata": {},
     "output_type": "execute_result"
    }
   ],
   "source": [
    "type(real2014) \n",
    "#쉼표로 구분되어 있지 않은 튜플 형태를 바로 데이터프레임으로 바꿀 수 없어서\n",
    "#r studio에서 작업"
   ]
  },
  {
   "cell_type": "markdown",
   "id": "30f9edbe",
   "metadata": {},
   "source": [
    "# 연령 및 성별 타겟 선정"
   ]
  },
  {
   "cell_type": "code",
   "execution_count": 34,
   "id": "e5ed03e5",
   "metadata": {
    "ExecuteTime": {
     "end_time": "2023-04-17T07:34:06.151900Z",
     "start_time": "2023-04-17T07:34:06.001791Z"
    },
    "tags": []
   },
   "outputs": [
    {
     "data": {
      "text/html": [
       "<div>\n",
       "<style scoped>\n",
       "    .dataframe tbody tr th:only-of-type {\n",
       "        vertical-align: middle;\n",
       "    }\n",
       "\n",
       "    .dataframe tbody tr th {\n",
       "        vertical-align: top;\n",
       "    }\n",
       "\n",
       "    .dataframe thead th {\n",
       "        text-align: right;\n",
       "    }\n",
       "</style>\n",
       "<table border=\"1\" class=\"dataframe\">\n",
       "  <thead>\n",
       "    <tr style=\"text-align: right;\">\n",
       "      <th></th>\n",
       "      <th>Unnamed: 0</th>\n",
       "      <th>country</th>\n",
       "      <th>purpose</th>\n",
       "      <th>favact</th>\n",
       "      <th>favplace1</th>\n",
       "      <th>favplace2</th>\n",
       "      <th>favplace3</th>\n",
       "      <th>sitem1</th>\n",
       "      <th>sitem2</th>\n",
       "      <th>sitem3</th>\n",
       "      <th>splace1</th>\n",
       "      <th>splace2</th>\n",
       "      <th>splace3</th>\n",
       "      <th>expense</th>\n",
       "      <th>sex</th>\n",
       "      <th>age</th>\n",
       "      <th>year</th>\n",
       "    </tr>\n",
       "  </thead>\n",
       "  <tbody>\n",
       "    <tr>\n",
       "      <th>0</th>\n",
       "      <td>1</td>\n",
       "      <td>태국</td>\n",
       "      <td>여가, 위락, 개별휴가</td>\n",
       "      <td>쇼핑</td>\n",
       "      <td>한라산</td>\n",
       "      <td>성산일출봉</td>\n",
       "      <td>동대문시장</td>\n",
       "      <td>향수, 화장품</td>\n",
       "      <td>인삼, 한약재</td>\n",
       "      <td>NaN</td>\n",
       "      <td>동대문시장</td>\n",
       "      <td>이태원시장</td>\n",
       "      <td>NaN</td>\n",
       "      <td>1064.0</td>\n",
       "      <td>male</td>\n",
       "      <td>41-50</td>\n",
       "      <td>2014</td>\n",
       "    </tr>\n",
       "  </tbody>\n",
       "</table>\n",
       "</div>"
      ],
      "text/plain": [
       "   Unnamed: 0 country       purpose favact favplace1 favplace2 favplace3  \\\n",
       "0           1      태국  여가, 위락, 개별휴가     쇼핑       한라산     성산일출봉     동대문시장   \n",
       "\n",
       "    sitem1   sitem2 sitem3 splace1 splace2 splace3  expense   sex    age  year  \n",
       "0  향수, 화장품  인삼, 한약재    NaN   동대문시장   이태원시장     NaN   1064.0  male  41-50  2014  "
      ]
     },
     "execution_count": 34,
     "metadata": {},
     "output_type": "execute_result"
    }
   ],
   "source": [
    "# r studio에서 하나로 bind한 데이터를 다시 jupyter로 로드\n",
    "# 변수 이름 뿐만 아니라 변수 값도 통일되어 있지 않아 map,lambda로 통일\n",
    "real1419 = pd.read_csv(\"real1419.csv\", encoding = 'cp949')\n",
    "gen = {\"남자\":\"male\",\"남성\":\"male\", \"여자\":\"female\",\"여성\":\"female\"}\n",
    "ag = {\"15~20세\":\"15-20\",\"15-20세\":\"15-20\", \"21~30세\":\"21-30\", \"21-30세\":\"21-30\", \"31~40세\":\"31-40\", \"31-40세\":\"31-40\", \"41~50세\":\"41-50\", \"41-50세\":\"41-50\", \"51~60세\":\"51-60\", \"51-60세\":\"51-60\", \"61세이상\":\"61+\", \"모름/무응답\":\"unknown\"}\n",
    "real1419['sex'] = real1419['sex'].map(lambda x: gen.get(x,x))\n",
    "real1419['age'] = real1419['age'].map(lambda x: ag.get(x,x))\n",
    "real1419[:1]"
   ]
  },
  {
   "cell_type": "code",
   "execution_count": 56,
   "id": "cc5e07c3",
   "metadata": {
    "ExecuteTime": {
     "end_time": "2023-04-17T07:30:50.602324Z",
     "start_time": "2023-04-17T07:30:50.156486Z"
    },
    "tags": []
   },
   "outputs": [
    {
     "data": {
      "image/png": "[encoded data removed]",
      "text/plain": [
       "<Figure size 640x480 with 1 Axes>"
      ]
     },
     "metadata": {},
     "output_type": "display_data"
    }
   ],
   "source": [
    "# 특정 나이대 및 성별을 타겟팅 하기 위한 여행 지출 비용 합계\n",
    "target = real1419.groupby(['age','sex'])['expense'].sum().sort_values(ascending=False).reset_index()\n",
    "fig = sns.barplot(data = target, x = 'age', y = 'expense', hue='sex')"
   ]
  },
  {
   "cell_type": "markdown",
   "id": "c92a2ebf-66d2-42e4-994b-41f86e8d4800",
   "metadata": {
    "tags": []
   },
   "source": [
    "### 세부 타겟팅: 21-40세 태국인 여성 관광객"
   ]
  },
  {
   "cell_type": "markdown",
   "id": "e00f1308-b138-46e7-8933-0b62af3ad981",
   "metadata": {
    "tags": []
   },
   "source": [
    "### 타켓팅 대상이 여행 중 가장 만족했던 활동 top 추출"
   ]
  },
  {
   "cell_type": "code",
   "execution_count": 55,
   "id": "2931a148",
   "metadata": {
    "ExecuteTime": {
     "end_time": "2023-04-17T07:54:48.382356Z",
     "start_time": "2023-04-17T07:54:47.974602Z"
    },
    "tags": []
   },
   "outputs": [
    {
     "data": {
      "image/png": "[encoded data removed]",
      "text/plain": [
       "<Figure size 640x480 with 1 Axes>"
      ]
     },
     "metadata": {},
     "output_type": "display_data"
    }
   ],
   "source": [
    "f2140 = real1419.query('( age == \"21-30\" or age == \"31-40\" ) and sex == \"female\" ')\n",
    "f2140 = f2140.iloc[:, 1:] #필요 없는 행 제거\n",
    "fav = f2140.groupby('favact').size().sort_values(ascending=False)[:4] #4가지 활동\n",
    "fav = fav.reset_index(name = \"cnt\")\n",
    "fav.plot(kind='barh', x = 'favact', y = 'cnt', color = \"yellowgreen\")\n",
    "plt.rc('font', family='Malgun Gothic')"
   ]
  },
  {
   "cell_type": "code",
   "execution_count": 182,
   "id": "7917056e",
   "metadata": {
    "ExecuteTime": {
     "end_time": "2023-04-17T08:04:03.731449Z",
     "start_time": "2023-04-17T08:04:03.659643Z"
    }
   },
   "outputs": [],
   "source": [
    "#태블로 시각화를 위한 파일 저장\n",
    "f2140.to_csv('f2140.csv', encoding = 'cp949')"
   ]
  },
  {
   "cell_type": "markdown",
   "id": "7ac9c993-a466-45ce-992e-573b770a450e",
   "metadata": {
    "tags": []
   },
   "source": [
    "결론\n",
    "\n",
    "태국인은 주로 서울권역에서 여행하며 주요 관광객은 21~40세 여성이다.\n",
    "좋아하는 활동은 쇼핑, 고궁…으로 파악되었다.\n",
    "위 분석을 바탕으로 태블로에서 여행 상품 기획을 위한 대시보드를 제작하여 인사이트를 얻을 수 있도록 하였다."
   ]
  },
  {
   "cell_type": "code",
   "execution_count": null,
   "id": "21631779-324a-41b3-be9d-419c75e3ba1b",
   "metadata": {},
   "outputs": [],
   "source": []
  },
  {
   "cell_type": "markdown",
   "id": "1b862ee0-6406-49e5-b0bf-835fbbd6b00e",
   "metadata": {},
   "source": [
    "방문지와 활동, 여행 시기(계절), 쇼핑 장소와 품목의 전체적인 시각화를 위해 태블로 사용"
   ]
  },
  {
   "cell_type": "code",
   "execution_count": null,
   "id": "8c52a3dc-c795-43a2-84d8-16cb85342f66",
   "metadata": {
    "tags": []
   },
   "outputs": [],
   "source": []
  },
  {
   "cell_type": "code",
   "execution_count": null,
   "id": "90cfce32-ad6d-4b3d-8f12-10e5910c19e3",
   "metadata": {},
   "outputs": [],
   "source": []
  }
 ],
 "metadata": {
  "kernelspec": {
   "display_name": "Python 3",
   "language": "python",
   "name": "python3"
  },
  "language_info": {
   "codemirror_mode": {
    "name": "ipython",
    "version": 3
   },
   "file_extension": ".py",
   "mimetype": "text/x-python",
   "name": "python",
   "nbconvert_exporter": "python",
   "pygments_lexer": "ipython3",
   "version": "3.7.10"
  },
  "toc": {
   "base_numbering": 1,
   "nav_menu": {},
   "number_sections": true,
   "sideBar": true,
   "skip_h1_title": false,
   "title_cell": "Table of Contents",
   "title_sidebar": "Contents",
   "toc_cell": false,
   "toc_position": {},
   "toc_section_display": true,
   "toc_window_display": false
  }
 },
 "nbformat": 4,
 "nbformat_minor": 5
}
